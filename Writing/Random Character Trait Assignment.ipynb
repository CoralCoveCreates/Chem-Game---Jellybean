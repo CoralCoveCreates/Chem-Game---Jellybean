{
 "cells": [
  {
   "cell_type": "markdown",
   "metadata": {},
   "source": [
    "## Random Character Trait Assignment"
   ]
  },
  {
   "cell_type": "code",
   "execution_count": 1,
   "metadata": {},
   "outputs": [],
   "source": [
    "import pandas as pd\n",
    "import random"
   ]
  },
  {
   "cell_type": "code",
   "execution_count": 2,
   "metadata": {},
   "outputs": [],
   "source": [
    "filename =\"CharacterNames.csv\"\n",
    "names_df = pd.read_csv(filename, sep=\",\")\n",
    "names_df[\"sexual_orientation\"] = \"\"\n",
    "\n",
    "#print(names_df.shape)\n",
    "#names_df.head()"
   ]
  },
  {
   "cell_type": "code",
   "execution_count": 2,
   "metadata": {},
   "outputs": [],
   "source": [
    "def removeElementsFromList(takeOutList, mainList) -> list:\n",
    "    a = mainList\n",
    "\n",
    "    # Elements to remove\n",
    "    remove = takeOutList\n",
    "\n",
    "    # Remove elements using list comprehension\n",
    "    a = [x for x in a if x not in remove]\n",
    "\n",
    "    return a\n",
    "\n",
    "def selectnFromList (n, listLen, ppl_list = []):\n",
    "    # number of items\n",
    "    n = 10\n",
    "\n",
    "    # determine which list to sample from\n",
    "    if ppl_list == []:\n",
    "        # list of items\n",
    "        tList = list(range(listLen))\n",
    "    else:\n",
    "        tList = ppl_list\n",
    "    \n",
    "    # using the sample() method\n",
    "    UpdatedList = random.sample(tList, n)\n",
    "\n",
    "    # sort list\n",
    "    orderedList = UpdatedList.sort()\n",
    "\n",
    "    # remove sampled items from main list\n",
    "    if ppl_list != []:\n",
    "        ppl_list = removeElementsFromList(takeOutList=orderedList, mainList=ppl_list)\n",
    "    else:\n",
    "        ppl_list = removeElementsFromList(takeOutList=orderedList, mainList=tList)\n",
    "\n",
    "    \n",
    "    # return random selections from the list without repetition\n",
    "    # and the main list \n",
    "    return (UpdatedList, ppl_list)\n",
    "\n",
    "def setSexualOrientation (percentage, orientation, df, ppl_list):\n",
    "\n",
    "    number_of_ppl = df.shape[0] # number of people one less than it should be for zero index reasons\n",
    "\n",
    "    n_people_w_orientation = int((number_of_ppl+1) * percentage)\n",
    "\n",
    "    (index_ppl_w_orientation, ppl_list) = selectnFromList(n_people_w_orientation, number_of_ppl, ppl_list)\n",
    "\n",
    "    df.iloc[index_ppl_w_orientation,8] = orientation # column 8 is sexual_orientation\n",
    "    \n",
    "    return (df, ppl_list)\n",
    "\n",
    "\n",
    "gay_p = 0.02\n",
    "lesbian_p = 0.02\n",
    "gay_lesbian_p = 0.04\n",
    "bisexual_p = 0.08\n",
    "pansexual_p = 0.015\n",
    "asexual_p = 0.015\n",
    "other_p= 0.01\n",
    "idk_p = 0.13\n",
    "heterosexual = 0.71\n",
    "\n",
    "(names_df, ppl_list) =  setSexualOrientation(gay_p,\"Gay/Lesbian\", df=names_df, ppl_list=[])\n",
    "\n",
    "names_df.head(20)"
   ]
  },
  {
   "cell_type": "markdown",
   "metadata": {},
   "source": [
    "### Population Percentages\n",
    "https://www.ipsos.com/sites/default/files/ct/news/documents/2021-06/LGBT%20Pride%202021%20Global%20Survey%20Report_3.pdf\t\n",
    "- Gay = 2%\n",
    "- Lesbian = 2%\n",
    "- Bisexual = 8%\n",
    "- Pansexual/Omnisexual = 1.5%\n",
    "- Asexual = 1.5%\n",
    "- Other = 1%\n",
    "- Don't know/won't say = 13%\n",
    "- Heterosexual = 71%"
   ]
  }
 ],
 "metadata": {
  "kernelspec": {
   "display_name": "tidalorbit",
   "language": "python",
   "name": "python3"
  },
  "language_info": {
   "codemirror_mode": {
    "name": "ipython",
    "version": 3
   },
   "file_extension": ".py",
   "mimetype": "text/x-python",
   "name": "python",
   "nbconvert_exporter": "python",
   "pygments_lexer": "ipython3",
   "version": "3.12.8"
  }
 },
 "nbformat": 4,
 "nbformat_minor": 2
}
