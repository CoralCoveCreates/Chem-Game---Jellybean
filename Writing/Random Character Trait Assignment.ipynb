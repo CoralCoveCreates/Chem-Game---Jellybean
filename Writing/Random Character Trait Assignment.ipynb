{
 "cells": [
  {
   "cell_type": "markdown",
   "metadata": {},
   "source": [
    "## Random Character Trait Assignment"
   ]
  },
  {
   "cell_type": "markdown",
   "metadata": {},
   "source": [
    "## Table of Contents:\n",
    "* [Imports and Functions](#zero-bullet)\n",
    "* [Population Percentages](#first-bullet)\n",
    "    * [Sexual Orientation](#second-bullet)\n",
    "    * [Age](#third-bullet)\n",
    "    * [Visual impairment](#fourth-bullet)\n",
    "    * [Handedness](#fifth-bullet)\n",
    "    * [Max Height](#sixth-bullet)"
   ]
  },
  {
   "cell_type": "code",
   "execution_count": 1,
   "metadata": {},
   "outputs": [],
   "source": [
    "# Table of contents not currently working in VScode"
   ]
  },
  {
   "cell_type": "markdown",
   "metadata": {},
   "source": [
    "### Imports and Functions <a class=\"anchor\" id=\"zero-bullet\"></a>"
   ]
  },
  {
   "cell_type": "code",
   "execution_count": 2,
   "metadata": {},
   "outputs": [],
   "source": [
    "#import libraries \n",
    "import matplotlib.pyplot as plt\n",
    "import pandas as pd\n",
    "import random\n",
    "\n",
    "filename =\"CharacterNamesV3.csv\"\n",
    "names_df = pd.read_csv(filename, sep=\",\")\n",
    "names_df[\"sexual_orientation\"] = \"\"\n",
    "names_df[\"age\"] = 0\n",
    "names_df[\"visual_impairment\"] = \"\"\n",
    "names_df[\"handedness\"] = \"\"\n",
    "names_df[\"heightCM\"] = 0\n",
    "\n",
    "#print(names_df.shape)\n",
    "#names_df.head()\n",
    "\n",
    "def removeElementsFromList(takeOutList, mainList) -> list:\n",
    "    a = mainList\n",
    "\n",
    "    # Elements to remove\n",
    "    remove = takeOutList\n",
    "\n",
    "    # Remove elements using list comprehension\n",
    "    a = [x for x in a if x not in remove]\n",
    "\n",
    "    return a\n",
    "\n",
    "def selectnFromList (n, listLen, ppl_list = []):\n",
    "    # determine which list to sample from\n",
    "    if ppl_list == []:\n",
    "        # list of items\n",
    "        tList = list(range(listLen))\n",
    "    else:\n",
    "        tList = ppl_list\n",
    "    \n",
    "    # using the sample() method\n",
    "    UpdatedList = random.sample(tList, n)\n",
    "\n",
    "    # sort list\n",
    "    UpdatedList.sort()\n",
    "    orderedList = UpdatedList\n",
    "\n",
    "    # remove sampled items from main list\n",
    "    if ppl_list != []:\n",
    "        ppl_list = removeElementsFromList(takeOutList=orderedList, mainList=ppl_list)\n",
    "    else:\n",
    "        ppl_list = removeElementsFromList(takeOutList=orderedList, mainList=tList)\n",
    "\n",
    "    # return random selections from the list without repetition\n",
    "    # and the main list \n",
    "    return (UpdatedList, ppl_list)\n",
    "\n",
    "def selectnFromList_age (n, listLen, ppl_list = []):\n",
    "    \n",
    "    # using the sample() method\n",
    "    UpdatedList = random.sample(ppl_list, n)\n",
    "\n",
    "    # sort list\n",
    "    UpdatedList.sort()\n",
    "    orderedList = UpdatedList\n",
    "\n",
    "    Updated_ppl_list = removeElementsFromList(takeOutList=orderedList, mainList=ppl_list)\n",
    "\n",
    "    # return random selections from the list without repetition\n",
    "    # and the main list \n",
    "    return (UpdatedList, Updated_ppl_list)\n",
    "\n",
    "def setGeneralTrait (percentage, trait, df, ppl_list, column_num):\n",
    "\n",
    "    number_of_ppl = df.shape[0] # number of people one less than it should be for zero index reasons\n",
    "\n",
    "    n_people_w_trait = int(round((number_of_ppl+1) * percentage,0))\n",
    "\n",
    "    (index_ppl_w_trait, ppl_list) = selectnFromList(n= n_people_w_trait, listLen=number_of_ppl, ppl_list=ppl_list)\n",
    "\n",
    "    df.iloc[index_ppl_w_trait, column_num] = trait \n",
    "    \n",
    "    return (df, ppl_list)\n"
   ]
  },
  {
   "cell_type": "markdown",
   "metadata": {},
   "source": [
    "### Population Percentages <a class=\"anchor\" id=\"first-bullet\"></a>"
   ]
  },
  {
   "cell_type": "markdown",
   "metadata": {},
   "source": [
    "#### Sexual Orientation <a class=\"anchor\" id=\"second-bullet\"></a>\n",
    "https://www.ipsos.com/sites/default/files/ct/news/documents/2021-06/LGBT%20Pride%202021%20Global%20Survey%20Report_3.pdf\t\n",
    "- Gay = 2%\n",
    "- Lesbian = 2%\n",
    "- Bisexual = 8%\n",
    "- Pansexual/Omnisexual = 1.5%\n",
    "- Asexual = 1.5%\n",
    "- Other = 1%\n",
    "- Don't know/won't say = 13%\n",
    "- Heterosexual = 71%"
   ]
  },
  {
   "cell_type": "code",
   "execution_count": 3,
   "metadata": {},
   "outputs": [],
   "source": [
    "gay_p = 0.02\n",
    "lesbian_p = 0.02\n",
    "gay_lesbian_p = 0.04\n",
    "bisexual_p = 0.08\n",
    "pansexual_p = 0.015\n",
    "asexual_p = 0.015\n",
    "other_p= 0.01\n",
    "idk_p = 0.13\n",
    "heterosexual = 0.71\n",
    "orientation_column_num = names_df.columns.get_loc(\"sexual_orientation\")\n",
    "\n",
    "(names_df, ppl_list) =  setGeneralTrait(gay_lesbian_p,\"Gay/Lesbian\", df=names_df, ppl_list=[], column_num=orientation_column_num)\n",
    "(names_df, ppl_list) =  setGeneralTrait(bisexual_p,\"Bisexual\", df=names_df, ppl_list=ppl_list, column_num=orientation_column_num)\n",
    "(names_df, ppl_list) =  setGeneralTrait(pansexual_p,\"Pansexual\", df=names_df, ppl_list=ppl_list, column_num=orientation_column_num)\n",
    "(names_df, ppl_list) =  setGeneralTrait(asexual_p,\"Asexual\", df=names_df, ppl_list=ppl_list, column_num=orientation_column_num)\n",
    "(names_df, ppl_list) =  setGeneralTrait(other_p,\"Other\", df=names_df, ppl_list=ppl_list, column_num=orientation_column_num)\n",
    "(names_df, ppl_list) =  setGeneralTrait(idk_p,\"idk\", df=names_df, ppl_list=ppl_list, column_num=orientation_column_num)\n"
   ]
  },
  {
   "cell_type": "markdown",
   "metadata": {},
   "source": [
    "#### Age <a class=\"anchor\" id=\"third-bullet\"></a>"
   ]
  },
  {
   "cell_type": "code",
   "execution_count": 4,
   "metadata": {},
   "outputs": [],
   "source": [
    "#create age dataframe\n",
    "age_df = pd.DataFrame({'age':     ['0-9', '10-19','20-29','30-39', '40-49','50-59','60-69',  '70-79','80-89','90-99', \"100-110\"], \n",
    "                    'men_p':   [0.16,  0.158,   0.149,   0.138,    0.127,  0.107,  0.088,     0.054,    0.0139,  0.005,   0.0001], \n",
    "                    'women_p': [0.143,  0.141,   0.137,  0.133,     0.125,   0.114,  0.10,     0.065,   0.025,  0.012,   0.005]})\n",
    "#check to see if percentages sum to 1 \n",
    "#print(age_df[\"men_p\"].sum())\n",
    "#print(age_df[\"women_p\"].sum())"
   ]
  },
  {
   "cell_type": "code",
   "execution_count": 5,
   "metadata": {},
   "outputs": [
    {
     "data": {
      "image/png": "[encoded data removed]",
      "text/plain": [
       "<Figure size 900x600 with 2 Axes>"
      ]
     },
     "metadata": {},
     "output_type": "display_data"
    }
   ],
   "source": [
    "#define x and y limits\n",
    "y = range(0, len(age_df))\n",
    "x_men = age_df['men_p']\n",
    "x_women = age_df['women_p']\n",
    "\n",
    "#define plot parameters\n",
    "fig, axes = plt.subplots(ncols=2, sharey=True, figsize=(9, 6))\n",
    "\n",
    "#specify background color and plot title\n",
    "fig.patch.set_facecolor('xkcd:light grey')\n",
    "plt.figtext(.5,.9,\"Population Pyramid \", fontsize=15, ha='center')\n",
    "    \n",
    "#define men and women bars\n",
    "axes[0].barh(y, x_men, align='center', color='royalblue')\n",
    "axes[0].set(title='Men Percentage')\n",
    "axes[1].barh(y, x_women, align='center', color='lightpink')\n",
    "axes[1].set(title='Women Percentage')\n",
    "\n",
    "#adjust grid parameters and specify labels for y-axis\n",
    "axes[1].grid()\n",
    "axes[0].set(yticks=y, yticklabels=age_df['age'])\n",
    "axes[0].set_ylabel('Age')\n",
    "axes[0].invert_xaxis()\n",
    "axes[0].grid()\n",
    "\n",
    "#display plot\n",
    "plt.show()"
   ]
  },
  {
   "cell_type": "code",
   "execution_count": 6,
   "metadata": {},
   "outputs": [],
   "source": [
    "def makeAge(age_i):\n",
    "    start = 0+(10*age_i)\n",
    "    stop = 9+(10*age_i)\n",
    "    if age_i < 8:\n",
    "        return random.randrange(start, stop)\n",
    "    else:\n",
    "        rnd_val = random.betavariate(alpha=1,beta=3)\n",
    "        return int((rnd_val + age_i)*10)\n",
    "\n",
    "def setAge (percentage, age_i, df, ppl_list, group_size, column_num):\n",
    "\n",
    "    number_of_ppl = group_size \n",
    "\n",
    "    n_people_w_age = int(round((number_of_ppl) * percentage,0))\n",
    "\n",
    "    (index_ppl_w_age, ppl_list) = selectnFromList_age(n= n_people_w_age, listLen=number_of_ppl, ppl_list=ppl_list)\n",
    "\n",
    "    for person_ in index_ppl_w_age:\n",
    "        age_ = makeAge(age_i)\n",
    "        df.iloc[person_,column_num] = age_ \n",
    "    \n",
    "    return (df, ppl_list)"
   ]
  },
  {
   "cell_type": "code",
   "execution_count": 7,
   "metadata": {},
   "outputs": [],
   "source": [
    "ppl_w_list = names_df.index[names_df['genderF'] == 1].tolist()\n",
    "ppl_m_list = names_df.index[names_df['genderM'] == 1].tolist()\n",
    "group_size_w = len(ppl_w_list)\n",
    "group_size_m = len(ppl_m_list)\n",
    "age_column_num = names_df.columns.get_loc(\"age\")\n",
    "\n",
    "n_age_brackets = age_df.shape[0]\n",
    "for i_ in range(n_age_brackets):\n",
    "    [age, m_p, w_p]= list(age_df.iloc[i_,:])\n",
    "\n",
    "    (names_df, ppl_w_list) =  setAge(w_p, age_i=i_, df=names_df, ppl_list=ppl_w_list, group_size=group_size_w, column_num=age_column_num)\n",
    "    (names_df, ppl_m_list) =  setAge(m_p, age_i=i_, df=names_df, ppl_list=ppl_m_list, group_size=group_size_m, column_num=age_column_num)\n"
   ]
  },
  {
   "cell_type": "markdown",
   "metadata": {},
   "source": [
    "#### Visual impairment <a class=\"anchor\" id=\"fourth-bullet\"></a>\n",
    "\n",
    "https://www.nih.gov/news-events/news-releases/study-finds-most-americans-have-good-vision-14-million-are-visually-impaired\t\n",
    "\n",
    "- 6% of us population is visually impared and of this 83% can be corrected with glasses/contacts.\n",
    "- 5% of us population could use glasses.\n",
    "- 1% has vision impairment that glasses don't help."
   ]
  },
  {
   "cell_type": "code",
   "execution_count": 8,
   "metadata": {},
   "outputs": [],
   "source": [
    "lenses_p = 0.05\n",
    "otherVisualimpairment_p = 0.01\n",
    "vision_column_num = names_df.columns.get_loc(\"visual_impairment\")\n",
    "\n",
    "(names_df, ppl_list) =  setGeneralTrait(lenses_p,\"Glasses/Contacts\", df=names_df, ppl_list=[], column_num=vision_column_num)\n",
    "(names_df, ppl_list) =  setGeneralTrait(otherVisualimpairment_p,\"Other visual impairment\", df=names_df, ppl_list=ppl_list, column_num=vision_column_num)\n"
   ]
  },
  {
   "cell_type": "markdown",
   "metadata": {},
   "source": [
    "#### Handedness <a class=\"anchor\" id=\"fifth-bullet\"></a>\n",
    "https://osf.io/preprints/psyarxiv/5gjac\t\n",
    "\n",
    "- ~11% population left handed\t"
   ]
  },
  {
   "cell_type": "code",
   "execution_count": 9,
   "metadata": {},
   "outputs": [],
   "source": [
    "left_handed_p = 0.11\n",
    "handedness_column_num = names_df.columns.get_loc(\"handedness\")\n",
    "(names_df, ppl_list) =  setGeneralTrait(left_handed_p,\"Left handed\", df=names_df, ppl_list=[], column_num=handedness_column_num)\n"
   ]
  },
  {
   "cell_type": "markdown",
   "metadata": {},
   "source": [
    "#### Max Height <a class=\"anchor\" id=\"sixth-bullet\"></a>\n",
    "- https://tall.life/height-percentile-calculator-age-country/\t\n",
    "- https://en.wikipedia.org/wiki/Average_human_height_by_country\t"
   ]
  },
  {
   "cell_type": "code",
   "execution_count": 10,
   "metadata": {},
   "outputs": [],
   "source": [
    "n_rows = names_df.shape[0]\n",
    "\n",
    "for row_ in range(n_rows):\n",
    "    avg_height = float(names_df.loc[row_,\"averageHeightForCountryMetricCM\"])\n",
    "    std_height = float(names_df.loc[row_,\"STDHeightForCountryMetricCM\"])\n",
    "\n",
    "    rnd_normal_height = int(round(random.gauss(mu=avg_height, sigma=std_height),0))\n",
    "\n",
    "    names_df.loc[row_,\"heightCM\"] = rnd_normal_height"
   ]
  },
  {
   "cell_type": "code",
   "execution_count": null,
   "metadata": {},
   "outputs": [],
   "source": []
  },
  {
   "cell_type": "code",
   "execution_count": null,
   "metadata": {},
   "outputs": [],
   "source": []
  },
  {
   "cell_type": "code",
   "execution_count": null,
   "metadata": {},
   "outputs": [],
   "source": []
  },
  {
   "cell_type": "code",
   "execution_count": null,
   "metadata": {},
   "outputs": [],
   "source": []
  },
  {
   "cell_type": "code",
   "execution_count": 11,
   "metadata": {},
   "outputs": [],
   "source": [
    "names_df.to_csv('Characters with Traits.csv', index=False)  "
   ]
  },
  {
   "cell_type": "code",
   "execution_count": null,
   "metadata": {},
   "outputs": [],
   "source": []
  }
 ],
 "metadata": {
  "kernelspec": {
   "display_name": "tidalorbit",
   "language": "python",
   "name": "python3"
  },
  "language_info": {
   "codemirror_mode": {
    "name": "ipython",
    "version": 3
   },
   "file_extension": ".py",
   "mimetype": "text/x-python",
   "name": "python",
   "nbconvert_exporter": "python",
   "pygments_lexer": "ipython3",
   "version": "3.12.8"
  }
 },
 "nbformat": 4,
 "nbformat_minor": 2
}
